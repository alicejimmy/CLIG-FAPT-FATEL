{
 "cells": [
  {
   "cell_type": "markdown",
   "metadata": {},
   "source": [
    "進入目錄和環境"
   ]
  },
  {
   "cell_type": "code",
   "execution_count": 57,
   "metadata": {},
   "outputs": [
    {
     "name": "stdout",
     "output_type": "stream",
     "text": [
      "usage: conda [-h] [--no-plugins] [-V] COMMAND ...\n",
      "conda: error: argument COMMAND: invalid choice: 'activate' (choose from 'clean', 'compare', 'config', 'create', 'info', 'init', 'install', 'list', 'notices', 'package', 'remove', 'uninstall', 'rename', 'run', 'search', 'update', 'upgrade', 'build', 'convert', 'debug', 'develop', 'doctor', 'index', 'inspect', 'metapackage', 'render', 'skeleton', 'env', 'pack', 'content-trust', 'token', 'verify', 'server', 'repo')\n"
     ]
    }
   ],
   "source": [
    "!conda activate Test\n",
    "!cd /mnt/d/test/Test"
   ]
  },
  {
   "cell_type": "markdown",
   "metadata": {},
   "source": [
    "made_labelset_model.py用法"
   ]
  },
  {
   "cell_type": "code",
   "execution_count": null,
   "metadata": {},
   "outputs": [],
   "source": [
    "!python made_labelset_model.py --epochs 200 --dataset cifar10 --lr 0.01 --momentum 0.9 --wd 1e-3 --target_acc 97.86 --deviation 0.1"
   ]
  },
  {
   "cell_type": "code",
   "execution_count": null,
   "metadata": {},
   "outputs": [],
   "source": [
    "!python made_labelset_model.py --epochs 200 --dataset cifar100_SM --lr 0.1 --momentum 0.95 --wd 1e-4 --target_acc 96.60 --deviation 2"
   ]
  },
  {
   "cell_type": "code",
   "execution_count": null,
   "metadata": {},
   "outputs": [],
   "source": [
    "!python made_labelset_model.py --epochs 200 --dataset cifar100_T --lr 0.1 --momentum 0.95 --wd 1e-4 --target_acc 94.19 --deviation 2"
   ]
  },
  {
   "cell_type": "markdown",
   "metadata": {},
   "source": [
    "main.py用法"
   ]
  },
  {
   "cell_type": "code",
   "execution_count": null,
   "metadata": {},
   "outputs": [],
   "source": [
    "!python main.py --epochs 800 --model resnet18 --dataset cifar10 --creation_method CLIG --framework FAPT --lr 0.01 --momentum 0.9 --wd 1e-3 --warm_up 10 --phi 0.9"
   ]
  },
  {
   "cell_type": "code",
   "execution_count": null,
   "metadata": {},
   "outputs": [],
   "source": [
    "!python main.py --epochs 500 --model resnet18 --dataset cifar100_SM --creation_method CLIG --framework FAPT --lr 0.005 --momentum 0.9 --wd 1e-3 --warm_up 10 --phi 0.9"
   ]
  },
  {
   "cell_type": "code",
   "execution_count": null,
   "metadata": {},
   "outputs": [],
   "source": [
    "!python main.py --epochs 500 --model resnet18 --dataset cifar100_T --creation_method CLIG --framework FAPT --lr 0.005 --momentum 0.9 --wd 1e-3 --warm_up 10 --phi 0.9"
   ]
  },
  {
   "cell_type": "code",
   "execution_count": null,
   "metadata": {},
   "outputs": [],
   "source": [
    "!python main.py --epochs 200 --model resnet18 --dataset cifar100_SM_500 --creation_method CLIG --framework FAPT --lr 0.005 --momentum 0.9 --wd 1e-3 --warm_up 10 --phi 0.9"
   ]
  },
  {
   "cell_type": "code",
   "execution_count": null,
   "metadata": {},
   "outputs": [],
   "source": [
    "!python main.py --epochs 200 --model resnet18 --dataset cifar100_T_500 --creation_method CLIG --framework FAPT --lr 0.005 --momentum 0.9 --wd 1e-3 --warm_up 10 --phi 0.9"
   ]
  }
 ],
 "metadata": {
  "kernelspec": {
   "display_name": "Test",
   "language": "python",
   "name": "python3"
  },
  "language_info": {
   "codemirror_mode": {
    "name": "ipython",
    "version": 3
   },
   "file_extension": ".py",
   "mimetype": "text/x-python",
   "name": "python",
   "nbconvert_exporter": "python",
   "pygments_lexer": "ipython3",
   "version": "3.11.4"
  }
 },
 "nbformat": 4,
 "nbformat_minor": 2
}
